{
 "cells": [
  {
   "cell_type": "code",
   "execution_count": 4,
   "id": "5dfd3270",
   "metadata": {},
   "outputs": [
    {
     "name": "stderr",
     "output_type": "stream",
     "text": [
      "/home/mc/miniconda3/envs/gold/lib/python3.10/site-packages/wandb/apis/public.py:3109: DeprecationWarning: pkg_resources is deprecated as an API. See https://setuptools.pypa.io/en/latest/pkg_resources.html\n",
      "  from pkg_resources import parse_version\n",
      "/home/mc/miniconda3/envs/gold/lib/python3.10/site-packages/pkg_resources/__init__.py:3142: DeprecationWarning: Deprecated call to `pkg_resources.declare_namespace('google')`.\n",
      "Implementing implicit namespace packages (as specified in PEP 420) is preferred to `pkg_resources.declare_namespace`. See https://setuptools.pypa.io/en/latest/references/keywords.html#keyword-namespace-packages\n",
      "  declare_namespace(pkg)\n",
      "/home/mc/miniconda3/envs/gold/lib/python3.10/site-packages/wandb/analytics/sentry.py:82: SentryHubDeprecationWarning: `sentry_sdk.Hub` is deprecated and will be removed in a future major release. Please consult our 1.x to 2.x migration guide for details on how to migrate `Hub` usage to the new API: https://docs.sentry.io/platforms/python/migration/1.x-to-2.x\n",
      "  self.hub = sentry_sdk.Hub(client)\n"
     ]
    }
   ],
   "source": [
    "import torch\n",
    "import torch.nn as nn\n",
    "import torch.nn.functional as F\n",
    "from torch.nn import init\n",
    "\n",
    "from fsrl.policy import CVPO"
   ]
  },
  {
   "cell_type": "code",
   "execution_count": 2,
   "id": "03317ad7",
   "metadata": {},
   "outputs": [
    {
     "name": "stdout",
     "output_type": "stream",
     "text": [
      "<class 'dict'>\n"
     ]
    }
   ],
   "source": [
    "cvpo_example_path = \"/home/mc/gold/logs/SafetyCarCircle1Gymnasium-v0-cost-20/cvpo-baseline_seed10/checkpoint/model_best.pt\"\n",
    "checkpoint = torch.load(cvpo_example_path)\n",
    "print(type(checkpoint))  # Is it a dict (state_dict) or model?"
   ]
  },
  {
   "cell_type": "code",
   "execution_count": 6,
   "id": "a86420c4",
   "metadata": {},
   "outputs": [
    {
     "name": "stdout",
     "output_type": "stream",
     "text": [
      "odict_keys(['_extra_state', 'actor.preprocess.model.model.0.weight', 'actor.preprocess.model.model.0.bias', 'actor.preprocess.model.model.2.weight', 'actor.preprocess.model.model.2.bias', 'actor.mu.model.0.weight', 'actor.mu.model.0.bias', 'actor.sigma.model.0.weight', 'actor.sigma.model.0.bias', 'critics.0.preprocess.model.model.0.weight', 'critics.0.preprocess.model.model.0.bias', 'critics.0.preprocess.model.model.2.weight', 'critics.0.preprocess.model.model.2.bias', 'critics.0.last.model.0.weight', 'critics.0.last.model.0.bias', 'critics.1.preprocess.model.model.0.weight', 'critics.1.preprocess.model.model.0.bias', 'critics.1.preprocess.model.model.2.weight', 'critics.1.preprocess.model.model.2.bias', 'critics.1.last.model.0.weight', 'critics.1.last.model.0.bias', '_actor_critic.actor.preprocess.model.model.0.weight', '_actor_critic.actor.preprocess.model.model.0.bias', '_actor_critic.actor.preprocess.model.model.2.weight', '_actor_critic.actor.preprocess.model.model.2.bias', '_actor_critic.actor.mu.model.0.weight', '_actor_critic.actor.mu.model.0.bias', '_actor_critic.actor.sigma.model.0.weight', '_actor_critic.actor.sigma.model.0.bias', '_actor_critic.critics.0.preprocess.model.model.0.weight', '_actor_critic.critics.0.preprocess.model.model.0.bias', '_actor_critic.critics.0.preprocess.model.model.2.weight', '_actor_critic.critics.0.preprocess.model.model.2.bias', '_actor_critic.critics.0.last.model.0.weight', '_actor_critic.critics.0.last.model.0.bias', '_actor_critic.critics.1.preprocess.model.model.0.weight', '_actor_critic.critics.1.preprocess.model.model.0.bias', '_actor_critic.critics.1.preprocess.model.model.2.weight', '_actor_critic.critics.1.preprocess.model.model.2.bias', '_actor_critic.critics.1.last.model.0.weight', '_actor_critic.critics.1.last.model.0.bias', 'actor_old.preprocess.model.model.0.weight', 'actor_old.preprocess.model.model.0.bias', 'actor_old.preprocess.model.model.2.weight', 'actor_old.preprocess.model.model.2.bias', 'actor_old.mu.model.0.weight', 'actor_old.mu.model.0.bias', 'actor_old.sigma.model.0.weight', 'actor_old.sigma.model.0.bias', 'critics_old.0.preprocess.model.model.0.weight', 'critics_old.0.preprocess.model.model.0.bias', 'critics_old.0.preprocess.model.model.2.weight', 'critics_old.0.preprocess.model.model.2.bias', 'critics_old.0.last.model.0.weight', 'critics_old.0.last.model.0.bias', 'critics_old.1.preprocess.model.model.0.weight', 'critics_old.1.preprocess.model.model.0.bias', 'critics_old.1.preprocess.model.model.2.weight', 'critics_old.1.preprocess.model.model.2.bias', 'critics_old.1.last.model.0.weight', 'critics_old.1.last.model.0.bias'])\n"
     ]
    }
   ],
   "source": [
    "print(checkpoint[\"model\"].keys())"
   ]
  },
  {
   "cell_type": "code",
   "execution_count": null,
   "id": "14a55c93",
   "metadata": {},
   "outputs": [],
   "source": [
    "policy = CVPO(\n",
    "\tactor=actor,\n",
    "\tcritics=critics,\n",
    "\tactor_optim=None,\n",
    "\tcritic_optim=None,\n",
    "\tlogger=logger,\n",
    "\tdist_fn=dist,\n",
    "\tcost_limit=cfg[\"cost_limit\"],\n",
    "\taction_space=env.action_space,\n",
    "\tmax_episode_steps=env.spec.max_episode_steps,\n",
    ")\n",
    "# Print actor architecture to verify `sigma` structure\n",
    "print(\"🚀 Actor Architecture in CVPO Evaluation:\")\n",
    "print(policy.actor)"
   ]
  }
 ],
 "metadata": {
  "kernelspec": {
   "display_name": "gold",
   "language": "python",
   "name": "python3"
  },
  "language_info": {
   "codemirror_mode": {
    "name": "ipython",
    "version": 3
   },
   "file_extension": ".py",
   "mimetype": "text/x-python",
   "name": "python",
   "nbconvert_exporter": "python",
   "pygments_lexer": "ipython3",
   "version": "3.10.16"
  }
 },
 "nbformat": 4,
 "nbformat_minor": 5
}
